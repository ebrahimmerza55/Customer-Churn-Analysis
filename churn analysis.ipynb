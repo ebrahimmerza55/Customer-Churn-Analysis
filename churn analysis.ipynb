{
 "cells": [
  {
   "cell_type": "code",
   "execution_count": 1,
   "id": "56e7c53e",
   "metadata": {},
   "outputs": [
    {
     "name": "stdout",
     "output_type": "stream",
     "text": [
      "Requirement already satisfied: pyodbc in c:\\users\\5g\\anaconda3\\lib\\site-packages (4.0.34)\n",
      "Requirement already satisfied: pandas in c:\\users\\5g\\anaconda3\\lib\\site-packages (2.0.3)\n",
      "Requirement already satisfied: python-dateutil>=2.8.2 in c:\\users\\5g\\anaconda3\\lib\\site-packages (from pandas) (2.8.2)\n",
      "Requirement already satisfied: pytz>=2020.1 in c:\\users\\5g\\anaconda3\\lib\\site-packages (from pandas) (2023.3.post1)\n",
      "Requirement already satisfied: tzdata>=2022.1 in c:\\users\\5g\\anaconda3\\lib\\site-packages (from pandas) (2023.3)\n",
      "Requirement already satisfied: numpy>=1.21.0 in c:\\users\\5g\\anaconda3\\lib\\site-packages (from pandas) (1.24.3)\n",
      "Requirement already satisfied: six>=1.5 in c:\\users\\5g\\anaconda3\\lib\\site-packages (from python-dateutil>=2.8.2->pandas) (1.16.0)\n"
     ]
    },
    {
     "name": "stderr",
     "output_type": "stream",
     "text": [
      "WARNING: There was an error checking the latest version of pip.\n"
     ]
    }
   ],
   "source": [
    "!pip install pyodbc pandas\n"
   ]
  },
  {
   "cell_type": "code",
   "execution_count": 3,
   "id": "a65291c9",
   "metadata": {},
   "outputs": [],
   "source": [
    "import pyodbc\n",
    "import pandas as pd\n",
    "import numpy as np \n",
    "import matplotlib.pyplot as plt \n",
    "import seaborn as sns \n",
    "from sklearn.model_selection import train_test_split\n",
    "from sklearn.ensemble import RandomForestClassifier\n",
    "from sklearn.metrics import classification_report, confusion_matrix\n",
    "from sklearn.preprocessing import LabelEncoder\n",
    "import joblib\n",
    "\n"
   ]
  },
  {
   "cell_type": "code",
   "execution_count": 13,
   "id": "497ce9ec",
   "metadata": {},
   "outputs": [
    {
     "name": "stderr",
     "output_type": "stream",
     "text": [
      "C:\\Users\\5g\\AppData\\Local\\Temp\\ipykernel_22084\\4099909805.py:17: UserWarning: pandas only supports SQLAlchemy connectable (engine/connection) or database string URI or sqlite3 DBAPI2 connection. Other DBAPI2 objects are not tested. Please consider using SQLAlchemy.\n",
      "  df = pd.read_sql(query, conn)\n"
     ]
    },
    {
     "data": {
      "text/html": [
       "<div>\n",
       "<style scoped>\n",
       "    .dataframe tbody tr th:only-of-type {\n",
       "        vertical-align: middle;\n",
       "    }\n",
       "\n",
       "    .dataframe tbody tr th {\n",
       "        vertical-align: top;\n",
       "    }\n",
       "\n",
       "    .dataframe thead th {\n",
       "        text-align: right;\n",
       "    }\n",
       "</style>\n",
       "<table border=\"1\" class=\"dataframe\">\n",
       "  <thead>\n",
       "    <tr style=\"text-align: right;\">\n",
       "      <th></th>\n",
       "      <th>Customer_ID</th>\n",
       "      <th>Gender</th>\n",
       "      <th>Age</th>\n",
       "      <th>Married</th>\n",
       "      <th>State</th>\n",
       "      <th>Number_of_Referrals</th>\n",
       "      <th>Tenure_in_Months</th>\n",
       "      <th>Value_Deal</th>\n",
       "      <th>Phone_Service</th>\n",
       "      <th>Multiple_Lines</th>\n",
       "      <th>...</th>\n",
       "      <th>Payment_Method</th>\n",
       "      <th>Monthly_Charge</th>\n",
       "      <th>Total_Charges</th>\n",
       "      <th>Total_Refunds</th>\n",
       "      <th>Total_Extra_Data_Charges</th>\n",
       "      <th>Total_Long_Distance_Charges</th>\n",
       "      <th>Total_Revenue</th>\n",
       "      <th>Customer_Status</th>\n",
       "      <th>Churn_Category</th>\n",
       "      <th>Churn_Reason</th>\n",
       "    </tr>\n",
       "  </thead>\n",
       "  <tbody>\n",
       "    <tr>\n",
       "      <th>0</th>\n",
       "      <td>11098-MAD</td>\n",
       "      <td>Female</td>\n",
       "      <td>30</td>\n",
       "      <td>Yes</td>\n",
       "      <td>Madhya Pradesh</td>\n",
       "      <td>0</td>\n",
       "      <td>31</td>\n",
       "      <td>Deal 1</td>\n",
       "      <td>Yes</td>\n",
       "      <td>No</td>\n",
       "      <td>...</td>\n",
       "      <td>Bank Withdrawal</td>\n",
       "      <td>95.099998</td>\n",
       "      <td>6683.399902</td>\n",
       "      <td>0.00</td>\n",
       "      <td>0</td>\n",
       "      <td>631.719971</td>\n",
       "      <td>7315.120117</td>\n",
       "      <td>Stayed</td>\n",
       "      <td>Others</td>\n",
       "      <td>Others</td>\n",
       "    </tr>\n",
       "    <tr>\n",
       "      <th>1</th>\n",
       "      <td>11114-PUN</td>\n",
       "      <td>Male</td>\n",
       "      <td>51</td>\n",
       "      <td>No</td>\n",
       "      <td>Punjab</td>\n",
       "      <td>5</td>\n",
       "      <td>9</td>\n",
       "      <td>Deal 5</td>\n",
       "      <td>Yes</td>\n",
       "      <td>No</td>\n",
       "      <td>...</td>\n",
       "      <td>Bank Withdrawal</td>\n",
       "      <td>49.150002</td>\n",
       "      <td>169.050003</td>\n",
       "      <td>0.00</td>\n",
       "      <td>10</td>\n",
       "      <td>122.370003</td>\n",
       "      <td>301.420013</td>\n",
       "      <td>Churned</td>\n",
       "      <td>Competitor</td>\n",
       "      <td>Competitor had better devices</td>\n",
       "    </tr>\n",
       "    <tr>\n",
       "      <th>2</th>\n",
       "      <td>11167-WES</td>\n",
       "      <td>Female</td>\n",
       "      <td>43</td>\n",
       "      <td>Yes</td>\n",
       "      <td>West Bengal</td>\n",
       "      <td>3</td>\n",
       "      <td>28</td>\n",
       "      <td>Deal 1</td>\n",
       "      <td>Yes</td>\n",
       "      <td>Yes</td>\n",
       "      <td>...</td>\n",
       "      <td>Bank Withdrawal</td>\n",
       "      <td>116.050003</td>\n",
       "      <td>8297.500000</td>\n",
       "      <td>42.57</td>\n",
       "      <td>110</td>\n",
       "      <td>1872.979980</td>\n",
       "      <td>10237.910156</td>\n",
       "      <td>Stayed</td>\n",
       "      <td>Others</td>\n",
       "      <td>Others</td>\n",
       "    </tr>\n",
       "    <tr>\n",
       "      <th>3</th>\n",
       "      <td>11179-MAH</td>\n",
       "      <td>Male</td>\n",
       "      <td>35</td>\n",
       "      <td>No</td>\n",
       "      <td>Maharashtra</td>\n",
       "      <td>10</td>\n",
       "      <td>12</td>\n",
       "      <td>None</td>\n",
       "      <td>Yes</td>\n",
       "      <td>No</td>\n",
       "      <td>...</td>\n",
       "      <td>Credit Card</td>\n",
       "      <td>84.400002</td>\n",
       "      <td>5969.299805</td>\n",
       "      <td>0.00</td>\n",
       "      <td>0</td>\n",
       "      <td>219.389999</td>\n",
       "      <td>6188.689941</td>\n",
       "      <td>Stayed</td>\n",
       "      <td>Others</td>\n",
       "      <td>Others</td>\n",
       "    </tr>\n",
       "    <tr>\n",
       "      <th>4</th>\n",
       "      <td>11180-TAM</td>\n",
       "      <td>Male</td>\n",
       "      <td>75</td>\n",
       "      <td>Yes</td>\n",
       "      <td>Tamil Nadu</td>\n",
       "      <td>12</td>\n",
       "      <td>27</td>\n",
       "      <td>Deal 2</td>\n",
       "      <td>Yes</td>\n",
       "      <td>No</td>\n",
       "      <td>...</td>\n",
       "      <td>Credit Card</td>\n",
       "      <td>72.599998</td>\n",
       "      <td>4084.350098</td>\n",
       "      <td>0.00</td>\n",
       "      <td>140</td>\n",
       "      <td>332.079987</td>\n",
       "      <td>4556.430176</td>\n",
       "      <td>Stayed</td>\n",
       "      <td>Others</td>\n",
       "      <td>Others</td>\n",
       "    </tr>\n",
       "  </tbody>\n",
       "</table>\n",
       "<p>5 rows × 32 columns</p>\n",
       "</div>"
      ],
      "text/plain": [
       "  Customer_ID  Gender  Age Married           State  Number_of_Referrals  \\\n",
       "0   11098-MAD  Female   30     Yes  Madhya Pradesh                    0   \n",
       "1   11114-PUN    Male   51      No          Punjab                    5   \n",
       "2   11167-WES  Female   43     Yes     West Bengal                    3   \n",
       "3   11179-MAH    Male   35      No     Maharashtra                   10   \n",
       "4   11180-TAM    Male   75     Yes      Tamil Nadu                   12   \n",
       "\n",
       "   Tenure_in_Months Value_Deal Phone_Service Multiple_Lines  ...  \\\n",
       "0                31     Deal 1           Yes             No  ...   \n",
       "1                 9     Deal 5           Yes             No  ...   \n",
       "2                28     Deal 1           Yes            Yes  ...   \n",
       "3                12       None           Yes             No  ...   \n",
       "4                27     Deal 2           Yes             No  ...   \n",
       "\n",
       "    Payment_Method Monthly_Charge Total_Charges Total_Refunds  \\\n",
       "0  Bank Withdrawal      95.099998   6683.399902          0.00   \n",
       "1  Bank Withdrawal      49.150002    169.050003          0.00   \n",
       "2  Bank Withdrawal     116.050003   8297.500000         42.57   \n",
       "3      Credit Card      84.400002   5969.299805          0.00   \n",
       "4      Credit Card      72.599998   4084.350098          0.00   \n",
       "\n",
       "  Total_Extra_Data_Charges Total_Long_Distance_Charges Total_Revenue  \\\n",
       "0                        0                  631.719971   7315.120117   \n",
       "1                       10                  122.370003    301.420013   \n",
       "2                      110                 1872.979980  10237.910156   \n",
       "3                        0                  219.389999   6188.689941   \n",
       "4                      140                  332.079987   4556.430176   \n",
       "\n",
       "  Customer_Status Churn_Category                   Churn_Reason  \n",
       "0          Stayed         Others                         Others  \n",
       "1         Churned     Competitor  Competitor had better devices  \n",
       "2          Stayed         Others                         Others  \n",
       "3          Stayed         Others                         Others  \n",
       "4          Stayed         Others                         Others  \n",
       "\n",
       "[5 rows x 32 columns]"
      ]
     },
     "execution_count": 13,
     "metadata": {},
     "output_type": "execute_result"
    }
   ],
   "source": [
    "# Define your connection string\n",
    "conn_string = (\n",
    "    \"DRIVER={ODBC Driver 17 for SQL Server};\"\n",
    "    \"SERVER=DESKTOP-AUBSJCA;\"  \n",
    "    \"DATABASE=db_Churn;\"\n",
    "    \"Trusted_Connection=yes;\"\n",
    "\n",
    ")\n",
    "\n",
    "# Create a connection\n",
    "conn = pyodbc.connect(conn_string)\n",
    "\n",
    "# Define a query\n",
    "query = \"SELECT * FROM vm_ChurnData;\"  \n",
    "\n",
    "# Execute the query and fetch data into a DataFrame\n",
    "df = pd.read_sql(query, conn)\n",
    "\n",
    "# Display the DataFrame\n",
    "df.head()\n",
    "\n",
    "\n"
   ]
  },
  {
   "cell_type": "markdown",
   "id": "f3bc5700",
   "metadata": {},
   "source": [
    "#### Data preprocessing "
   ]
  },
  {
   "cell_type": "code",
   "execution_count": 14,
   "id": "5b75d647",
   "metadata": {},
   "outputs": [],
   "source": [
    "#Drop columns that wan't be used for prediction\n",
    "df = df.drop(['Customer_ID','Churn_Category','Churn_Reason'],axis=1)"
   ]
  },
  {
   "cell_type": "code",
   "execution_count": 15,
   "id": "980c5d06",
   "metadata": {},
   "outputs": [],
   "source": [
    "# columns to be label encoded \n",
    "columns_to_encode = [\n",
    "\n",
    "    'Gender', 'Married', 'State', 'Value_Deal', 'Phone_Service', 'Multiple_Lines',\n",
    "    'Internet_Service', 'Internet_Type', 'Online_Security', 'Online_Backup',\n",
    "    'Device_Protection_Plan', 'Premium_Support', 'Streaming_TV', 'Streaming_Movies',\n",
    "    'Streaming_Music', 'Unlimited_Data', 'Contract', 'Paperless_Billing',\n",
    "    'Payment_Method'\n",
    "\n",
    "]"
   ]
  },
  {
   "cell_type": "code",
   "execution_count": 16,
   "id": "ef68a273",
   "metadata": {},
   "outputs": [],
   "source": [
    "label_encoders = {}\n",
    "for column in columns_to_encode:\n",
    "    label_encoders[column] = LabelEncoder()\n",
    "    df[column] = label_encoders[column].fit_transform(df[column])"
   ]
  },
  {
   "cell_type": "code",
   "execution_count": 18,
   "id": "b0da5db8",
   "metadata": {},
   "outputs": [],
   "source": [
    "df[\"Customer_Status\"] = df[\"Customer_Status\"].map({'Stayed':0,'Churned':1})"
   ]
  },
  {
   "cell_type": "code",
   "execution_count": 19,
   "id": "289b057a",
   "metadata": {},
   "outputs": [],
   "source": [
    "# split data into features & target \n",
    "x = df.drop('Customer_Status',axis=1)\n",
    "y = df['Customer_Status']"
   ]
  },
  {
   "cell_type": "code",
   "execution_count": 20,
   "id": "4efe0dc5",
   "metadata": {},
   "outputs": [],
   "source": [
    "# split data into training and testing \n",
    "x_train,x_test,y_train,y_test = train_test_split(x,y,test_size=0.2,random_state=42)"
   ]
  },
  {
   "cell_type": "markdown",
   "id": "ecc0cdf8",
   "metadata": {},
   "source": [
    "### Train Random Forest Model"
   ]
  },
  {
   "cell_type": "code",
   "execution_count": 21,
   "id": "0b38af81",
   "metadata": {},
   "outputs": [
    {
     "data": {
      "text/html": [
       "<style>#sk-container-id-1 {color: black;}#sk-container-id-1 pre{padding: 0;}#sk-container-id-1 div.sk-toggleable {background-color: white;}#sk-container-id-1 label.sk-toggleable__label {cursor: pointer;display: block;width: 100%;margin-bottom: 0;padding: 0.3em;box-sizing: border-box;text-align: center;}#sk-container-id-1 label.sk-toggleable__label-arrow:before {content: \"▸\";float: left;margin-right: 0.25em;color: #696969;}#sk-container-id-1 label.sk-toggleable__label-arrow:hover:before {color: black;}#sk-container-id-1 div.sk-estimator:hover label.sk-toggleable__label-arrow:before {color: black;}#sk-container-id-1 div.sk-toggleable__content {max-height: 0;max-width: 0;overflow: hidden;text-align: left;background-color: #f0f8ff;}#sk-container-id-1 div.sk-toggleable__content pre {margin: 0.2em;color: black;border-radius: 0.25em;background-color: #f0f8ff;}#sk-container-id-1 input.sk-toggleable__control:checked~div.sk-toggleable__content {max-height: 200px;max-width: 100%;overflow: auto;}#sk-container-id-1 input.sk-toggleable__control:checked~label.sk-toggleable__label-arrow:before {content: \"▾\";}#sk-container-id-1 div.sk-estimator input.sk-toggleable__control:checked~label.sk-toggleable__label {background-color: #d4ebff;}#sk-container-id-1 div.sk-label input.sk-toggleable__control:checked~label.sk-toggleable__label {background-color: #d4ebff;}#sk-container-id-1 input.sk-hidden--visually {border: 0;clip: rect(1px 1px 1px 1px);clip: rect(1px, 1px, 1px, 1px);height: 1px;margin: -1px;overflow: hidden;padding: 0;position: absolute;width: 1px;}#sk-container-id-1 div.sk-estimator {font-family: monospace;background-color: #f0f8ff;border: 1px dotted black;border-radius: 0.25em;box-sizing: border-box;margin-bottom: 0.5em;}#sk-container-id-1 div.sk-estimator:hover {background-color: #d4ebff;}#sk-container-id-1 div.sk-parallel-item::after {content: \"\";width: 100%;border-bottom: 1px solid gray;flex-grow: 1;}#sk-container-id-1 div.sk-label:hover label.sk-toggleable__label {background-color: #d4ebff;}#sk-container-id-1 div.sk-serial::before {content: \"\";position: absolute;border-left: 1px solid gray;box-sizing: border-box;top: 0;bottom: 0;left: 50%;z-index: 0;}#sk-container-id-1 div.sk-serial {display: flex;flex-direction: column;align-items: center;background-color: white;padding-right: 0.2em;padding-left: 0.2em;position: relative;}#sk-container-id-1 div.sk-item {position: relative;z-index: 1;}#sk-container-id-1 div.sk-parallel {display: flex;align-items: stretch;justify-content: center;background-color: white;position: relative;}#sk-container-id-1 div.sk-item::before, #sk-container-id-1 div.sk-parallel-item::before {content: \"\";position: absolute;border-left: 1px solid gray;box-sizing: border-box;top: 0;bottom: 0;left: 50%;z-index: -1;}#sk-container-id-1 div.sk-parallel-item {display: flex;flex-direction: column;z-index: 1;position: relative;background-color: white;}#sk-container-id-1 div.sk-parallel-item:first-child::after {align-self: flex-end;width: 50%;}#sk-container-id-1 div.sk-parallel-item:last-child::after {align-self: flex-start;width: 50%;}#sk-container-id-1 div.sk-parallel-item:only-child::after {width: 0;}#sk-container-id-1 div.sk-dashed-wrapped {border: 1px dashed gray;margin: 0 0.4em 0.5em 0.4em;box-sizing: border-box;padding-bottom: 0.4em;background-color: white;}#sk-container-id-1 div.sk-label label {font-family: monospace;font-weight: bold;display: inline-block;line-height: 1.2em;}#sk-container-id-1 div.sk-label-container {text-align: center;}#sk-container-id-1 div.sk-container {/* jupyter's `normalize.less` sets `[hidden] { display: none; }` but bootstrap.min.css set `[hidden] { display: none !important; }` so we also need the `!important` here to be able to override the default hidden behavior on the sphinx rendered scikit-learn.org. See: https://github.com/scikit-learn/scikit-learn/issues/21755 */display: inline-block !important;position: relative;}#sk-container-id-1 div.sk-text-repr-fallback {display: none;}</style><div id=\"sk-container-id-1\" class=\"sk-top-container\"><div class=\"sk-text-repr-fallback\"><pre>RandomForestClassifier(random_state=42)</pre><b>In a Jupyter environment, please rerun this cell to show the HTML representation or trust the notebook. <br />On GitHub, the HTML representation is unable to render, please try loading this page with nbviewer.org.</b></div><div class=\"sk-container\" hidden><div class=\"sk-item\"><div class=\"sk-estimator sk-toggleable\"><input class=\"sk-toggleable__control sk-hidden--visually\" id=\"sk-estimator-id-1\" type=\"checkbox\" checked><label for=\"sk-estimator-id-1\" class=\"sk-toggleable__label sk-toggleable__label-arrow\">RandomForestClassifier</label><div class=\"sk-toggleable__content\"><pre>RandomForestClassifier(random_state=42)</pre></div></div></div></div></div>"
      ],
      "text/plain": [
       "RandomForestClassifier(random_state=42)"
      ]
     },
     "execution_count": 21,
     "metadata": {},
     "output_type": "execute_result"
    }
   ],
   "source": [
    "rf_model = RandomForestClassifier(n_estimators=100,random_state=42)\n",
    "rf_model.fit(x_train,y_train)"
   ]
  },
  {
   "cell_type": "markdown",
   "id": "a385d716",
   "metadata": {},
   "source": [
    "### Evaluate Model"
   ]
  },
  {
   "cell_type": "code",
   "execution_count": 22,
   "id": "e1656251",
   "metadata": {},
   "outputs": [],
   "source": [
    "# Make predictions\n",
    "y_perd = rf_model.predict(x_test)"
   ]
  },
  {
   "cell_type": "code",
   "execution_count": 23,
   "id": "29f033f5",
   "metadata": {},
   "outputs": [
    {
     "name": "stdout",
     "output_type": "stream",
     "text": [
      "Confusion Matrix:\n",
      "[[810  53]\n",
      " [120 219]]\n",
      "\n",
      "Classification Report:\n",
      "              precision    recall  f1-score   support\n",
      "\n",
      "           0       0.87      0.94      0.90       863\n",
      "           1       0.81      0.65      0.72       339\n",
      "\n",
      "    accuracy                           0.86      1202\n",
      "   macro avg       0.84      0.79      0.81      1202\n",
      "weighted avg       0.85      0.86      0.85      1202\n",
      "\n"
     ]
    }
   ],
   "source": [
    "#Evaluate the maodel\n",
    "print(\"Confusion Matrix:\")\n",
    "print(confusion_matrix(y_test,y_perd))\n",
    "print(\"\\nClassification Report:\")\n",
    "print(classification_report(y_test,y_perd))"
   ]
  },
  {
   "cell_type": "code",
   "execution_count": 25,
   "id": "ddd3b68d",
   "metadata": {},
   "outputs": [],
   "source": [
    "importances = rf_model.feature_importances_\n",
    "indices = np.argsort(importances[::-1])"
   ]
  },
  {
   "cell_type": "code",
   "execution_count": 27,
   "id": "2f858b11",
   "metadata": {
    "scrolled": true
   },
   "outputs": [
    {
     "data": {
      "image/png": "[encoded data removed]",
      "text/plain": [
       "<Figure size 1500x600 with 1 Axes>"
      ]
     },
     "metadata": {},
     "output_type": "display_data"
    }
   ],
   "source": [
    "# Plot the feature importances\n",
    "plt.figure(figsize=(15, 6))\n",
    "sns.barplot(x=importances[indices], y=x.columns[indices])\n",
    "plt.title('Feature Importances')\n",
    "plt.xlabel('Relative Importance')\n",
    "plt.ylabel('Feature Names')\n",
    "\n",
    "plt.show()"
   ]
  },
  {
   "cell_type": "markdown",
   "id": "c45cdf38",
   "metadata": {},
   "source": [
    "### Use Model for Prediction on New Data"
   ]
  },
  {
   "cell_type": "code",
   "execution_count": 28,
   "id": "e0e4186b",
   "metadata": {},
   "outputs": [
    {
     "name": "stderr",
     "output_type": "stream",
     "text": [
      "C:\\Users\\5g\\AppData\\Local\\Temp\\ipykernel_22084\\419393735.py:2: UserWarning: pandas only supports SQLAlchemy connectable (engine/connection) or database string URI or sqlite3 DBAPI2 connection. Other DBAPI2 objects are not tested. Please consider using SQLAlchemy.\n",
      "  new_data = pd.read_sql(query2, conn)\n"
     ]
    },
    {
     "data": {
      "text/html": [
       "<div>\n",
       "<style scoped>\n",
       "    .dataframe tbody tr th:only-of-type {\n",
       "        vertical-align: middle;\n",
       "    }\n",
       "\n",
       "    .dataframe tbody tr th {\n",
       "        vertical-align: top;\n",
       "    }\n",
       "\n",
       "    .dataframe thead th {\n",
       "        text-align: right;\n",
       "    }\n",
       "</style>\n",
       "<table border=\"1\" class=\"dataframe\">\n",
       "  <thead>\n",
       "    <tr style=\"text-align: right;\">\n",
       "      <th></th>\n",
       "      <th>Customer_ID</th>\n",
       "      <th>Gender</th>\n",
       "      <th>Age</th>\n",
       "      <th>Married</th>\n",
       "      <th>State</th>\n",
       "      <th>Number_of_Referrals</th>\n",
       "      <th>Tenure_in_Months</th>\n",
       "      <th>Value_Deal</th>\n",
       "      <th>Phone_Service</th>\n",
       "      <th>Multiple_Lines</th>\n",
       "      <th>...</th>\n",
       "      <th>Payment_Method</th>\n",
       "      <th>Monthly_Charge</th>\n",
       "      <th>Total_Charges</th>\n",
       "      <th>Total_Refunds</th>\n",
       "      <th>Total_Extra_Data_Charges</th>\n",
       "      <th>Total_Long_Distance_Charges</th>\n",
       "      <th>Total_Revenue</th>\n",
       "      <th>Customer_Status</th>\n",
       "      <th>Churn_Category</th>\n",
       "      <th>Churn_Reason</th>\n",
       "    </tr>\n",
       "  </thead>\n",
       "  <tbody>\n",
       "    <tr>\n",
       "      <th>0</th>\n",
       "      <td>12056-WES</td>\n",
       "      <td>Male</td>\n",
       "      <td>27</td>\n",
       "      <td>No</td>\n",
       "      <td>West Bengal</td>\n",
       "      <td>2</td>\n",
       "      <td>20</td>\n",
       "      <td>None</td>\n",
       "      <td>Yes</td>\n",
       "      <td>No</td>\n",
       "      <td>...</td>\n",
       "      <td>Bank Withdrawal</td>\n",
       "      <td>90.400002</td>\n",
       "      <td>268.450012</td>\n",
       "      <td>0.0</td>\n",
       "      <td>0</td>\n",
       "      <td>94.440002</td>\n",
       "      <td>362.890015</td>\n",
       "      <td>Joined</td>\n",
       "      <td>Others</td>\n",
       "      <td>Others</td>\n",
       "    </tr>\n",
       "    <tr>\n",
       "      <th>1</th>\n",
       "      <td>12136-RAJ</td>\n",
       "      <td>Female</td>\n",
       "      <td>25</td>\n",
       "      <td>Yes</td>\n",
       "      <td>Rajasthan</td>\n",
       "      <td>2</td>\n",
       "      <td>35</td>\n",
       "      <td>None</td>\n",
       "      <td>Yes</td>\n",
       "      <td>No</td>\n",
       "      <td>...</td>\n",
       "      <td>Bank Withdrawal</td>\n",
       "      <td>19.900000</td>\n",
       "      <td>19.900000</td>\n",
       "      <td>0.0</td>\n",
       "      <td>0</td>\n",
       "      <td>11.830000</td>\n",
       "      <td>31.730000</td>\n",
       "      <td>Joined</td>\n",
       "      <td>Others</td>\n",
       "      <td>Others</td>\n",
       "    </tr>\n",
       "    <tr>\n",
       "      <th>2</th>\n",
       "      <td>12257-ASS</td>\n",
       "      <td>Female</td>\n",
       "      <td>39</td>\n",
       "      <td>No</td>\n",
       "      <td>Assam</td>\n",
       "      <td>9</td>\n",
       "      <td>1</td>\n",
       "      <td>None</td>\n",
       "      <td>Yes</td>\n",
       "      <td>No</td>\n",
       "      <td>...</td>\n",
       "      <td>Credit Card</td>\n",
       "      <td>19.549999</td>\n",
       "      <td>19.549999</td>\n",
       "      <td>0.0</td>\n",
       "      <td>0</td>\n",
       "      <td>10.200000</td>\n",
       "      <td>29.750000</td>\n",
       "      <td>Joined</td>\n",
       "      <td>Others</td>\n",
       "      <td>Others</td>\n",
       "    </tr>\n",
       "    <tr>\n",
       "      <th>3</th>\n",
       "      <td>15349-UTT</td>\n",
       "      <td>Male</td>\n",
       "      <td>47</td>\n",
       "      <td>Yes</td>\n",
       "      <td>Uttar Pradesh</td>\n",
       "      <td>9</td>\n",
       "      <td>12</td>\n",
       "      <td>Deal 5</td>\n",
       "      <td>Yes</td>\n",
       "      <td>Yes</td>\n",
       "      <td>...</td>\n",
       "      <td>Bank Withdrawal</td>\n",
       "      <td>50.150002</td>\n",
       "      <td>50.150002</td>\n",
       "      <td>0.0</td>\n",
       "      <td>0</td>\n",
       "      <td>39.869999</td>\n",
       "      <td>90.019997</td>\n",
       "      <td>Joined</td>\n",
       "      <td>Others</td>\n",
       "      <td>Others</td>\n",
       "    </tr>\n",
       "    <tr>\n",
       "      <th>4</th>\n",
       "      <td>15591-KAR</td>\n",
       "      <td>Female</td>\n",
       "      <td>26</td>\n",
       "      <td>No</td>\n",
       "      <td>Karnataka</td>\n",
       "      <td>3</td>\n",
       "      <td>31</td>\n",
       "      <td>None</td>\n",
       "      <td>Yes</td>\n",
       "      <td>No</td>\n",
       "      <td>...</td>\n",
       "      <td>Credit Card</td>\n",
       "      <td>20.400000</td>\n",
       "      <td>20.400000</td>\n",
       "      <td>0.0</td>\n",
       "      <td>0</td>\n",
       "      <td>45.910000</td>\n",
       "      <td>66.309998</td>\n",
       "      <td>Joined</td>\n",
       "      <td>Others</td>\n",
       "      <td>Others</td>\n",
       "    </tr>\n",
       "  </tbody>\n",
       "</table>\n",
       "<p>5 rows × 32 columns</p>\n",
       "</div>"
      ],
      "text/plain": [
       "  Customer_ID  Gender  Age Married          State  Number_of_Referrals  \\\n",
       "0   12056-WES    Male   27      No    West Bengal                    2   \n",
       "1   12136-RAJ  Female   25     Yes      Rajasthan                    2   \n",
       "2   12257-ASS  Female   39      No          Assam                    9   \n",
       "3   15349-UTT    Male   47     Yes  Uttar Pradesh                    9   \n",
       "4   15591-KAR  Female   26      No      Karnataka                    3   \n",
       "\n",
       "   Tenure_in_Months Value_Deal Phone_Service Multiple_Lines  ...  \\\n",
       "0                20       None           Yes             No  ...   \n",
       "1                35       None           Yes             No  ...   \n",
       "2                 1       None           Yes             No  ...   \n",
       "3                12     Deal 5           Yes            Yes  ...   \n",
       "4                31       None           Yes             No  ...   \n",
       "\n",
       "    Payment_Method Monthly_Charge Total_Charges Total_Refunds  \\\n",
       "0  Bank Withdrawal      90.400002    268.450012           0.0   \n",
       "1  Bank Withdrawal      19.900000     19.900000           0.0   \n",
       "2      Credit Card      19.549999     19.549999           0.0   \n",
       "3  Bank Withdrawal      50.150002     50.150002           0.0   \n",
       "4      Credit Card      20.400000     20.400000           0.0   \n",
       "\n",
       "  Total_Extra_Data_Charges Total_Long_Distance_Charges Total_Revenue  \\\n",
       "0                        0                   94.440002    362.890015   \n",
       "1                        0                   11.830000     31.730000   \n",
       "2                        0                   10.200000     29.750000   \n",
       "3                        0                   39.869999     90.019997   \n",
       "4                        0                   45.910000     66.309998   \n",
       "\n",
       "  Customer_Status Churn_Category Churn_Reason  \n",
       "0          Joined         Others       Others  \n",
       "1          Joined         Others       Others  \n",
       "2          Joined         Others       Others  \n",
       "3          Joined         Others       Others  \n",
       "4          Joined         Others       Others  \n",
       "\n",
       "[5 rows x 32 columns]"
      ]
     },
     "execution_count": 28,
     "metadata": {},
     "output_type": "execute_result"
    }
   ],
   "source": [
    "query2 = \"SELECT * FROM vm_JoinedData;\"\n",
    "new_data = pd.read_sql(query2, conn)\n",
    "new_data.head()"
   ]
  },
  {
   "cell_type": "code",
   "execution_count": 29,
   "id": "d5ebd943",
   "metadata": {},
   "outputs": [],
   "source": [
    "original_data = new_data.copy()"
   ]
  },
  {
   "cell_type": "code",
   "execution_count": 30,
   "id": "9ce24d91",
   "metadata": {},
   "outputs": [],
   "source": [
    "customer_ids = new_data['Customer_ID']"
   ]
  },
  {
   "cell_type": "code",
   "execution_count": 31,
   "id": "3f921d66",
   "metadata": {},
   "outputs": [],
   "source": [
    "new_data = new_data.drop(['Customer_ID', 'Customer_Status', 'Churn_Category', 'Churn_Reason'], axis=1)"
   ]
  },
  {
   "cell_type": "code",
   "execution_count": 32,
   "id": "508cc23e",
   "metadata": {},
   "outputs": [],
   "source": [
    "for column in new_data.select_dtypes(include=['object']).columns:\n",
    "\n",
    "    new_data[column] = label_encoders[column].transform(new_data[column])"
   ]
  },
  {
   "cell_type": "code",
   "execution_count": 33,
   "id": "461c25df",
   "metadata": {},
   "outputs": [],
   "source": [
    "new_predictions = rf_model.predict(new_data)"
   ]
  },
  {
   "cell_type": "code",
   "execution_count": 34,
   "id": "ac797248",
   "metadata": {},
   "outputs": [],
   "source": [
    "original_data['Customer_Status_Predicted'] = new_predictions"
   ]
  },
  {
   "cell_type": "code",
   "execution_count": 35,
   "id": "da67ed67",
   "metadata": {},
   "outputs": [],
   "source": [
    "original_data = original_data[original_data['Customer_Status_Predicted'] == 1]"
   ]
  },
  {
   "cell_type": "code",
   "execution_count": 36,
   "id": "0439aa79",
   "metadata": {},
   "outputs": [
    {
     "name": "stdout",
     "output_type": "stream",
     "text": [
      "Predictions saved to SQL table successfully.\n"
     ]
    }
   ],
   "source": [
    "\n",
    "from sqlalchemy import create_engine\n",
    "\n",
    "# Creating a SQLAlchemy engine for SQL Server\n",
    "engine = create_engine('mssql+pyodbc://DESKTOP-AUBSJCA/db_Churn?driver=ODBC+Driver+17+for+SQL+Server&trusted_connection=yes')\n",
    "# Save the predictions to a new SQL table or append to an existing one\n",
    "original_data[['Customer_ID', 'Customer_Status_Predicted']].to_sql('Churn_Predictions', engine, if_exists='replace', index=False)\n",
    "print(\"Predictions saved to SQL table successfully.\")\n",
    "\n",
    "# Close the database connection\n",
    "conn.close()\n"
   ]
  },
  {
   "cell_type": "code",
   "execution_count": null,
   "id": "6c281f83",
   "metadata": {},
   "outputs": [],
   "source": []
  }
 ],
 "metadata": {
  "kernelspec": {
   "display_name": "Python 3 (ipykernel)",
   "language": "python",
   "name": "python3"
  },
  "language_info": {
   "codemirror_mode": {
    "name": "ipython",
    "version": 3
   },
   "file_extension": ".py",
   "mimetype": "text/x-python",
   "name": "python",
   "nbconvert_exporter": "python",
   "pygments_lexer": "ipython3",
   "version": "3.11.5"
  }
 },
 "nbformat": 4,
 "nbformat_minor": 5
}
